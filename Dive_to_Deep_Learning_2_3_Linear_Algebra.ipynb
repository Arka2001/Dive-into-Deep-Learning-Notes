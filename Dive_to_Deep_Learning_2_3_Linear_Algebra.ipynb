{
  "nbformat": 4,
  "nbformat_minor": 0,
  "metadata": {
    "colab": {
      "name": "Dive to Deep Learning 2.3 - Linear Algebra.ipynb",
      "provenance": [],
      "authorship_tag": "ABX9TyNfksw3DrvWTkeP1BabGIXS",
      "include_colab_link": true
    },
    "kernelspec": {
      "name": "python3",
      "display_name": "Python 3"
    }
  },
  "cells": [
    {
      "cell_type": "markdown",
      "metadata": {
        "id": "view-in-github",
        "colab_type": "text"
      },
      "source": [
        "<a href=\"https://colab.research.google.com/github/Arka2001/Dive-into-Deep-Learning-Notes/blob/main/Dive_to_Deep_Learning_2_3_Linear_Algebra.ipynb\" target=\"_parent\"><img src=\"https://colab.research.google.com/assets/colab-badge.svg\" alt=\"Open In Colab\"/></a>"
      ]
    },
    {
      "cell_type": "markdown",
      "metadata": {
        "id": "a7SDbpj6G3T2"
      },
      "source": [
        "**LINEAR ALGEBRA**"
      ]
    },
    {
      "cell_type": "markdown",
      "metadata": {
        "id": "-GXRIUU6G8dW"
      },
      "source": [
        "**Scalars**\n",
        "\n",
        "A scalar is aphysical quantity having technically zero dimensions. It only has magnitude and no other dimension with is. It is basically a constant numerical value. Like, 5,9,23,20, etc. are all constant scalar values."
      ]
    },
    {
      "cell_type": "code",
      "metadata": {
        "id": "o-o3rm4yGQwX"
      },
      "source": [
        "#In PyTorch scalar values are represented as a 1x1 dimension vector. Such as follows:\n",
        "import torch\n",
        "scalar1 = torch.tensor([3.0])\n",
        "scalar2 = torch.tensor([4.0])"
      ],
      "execution_count": 2,
      "outputs": []
    },
    {
      "cell_type": "code",
      "metadata": {
        "colab": {
          "base_uri": "https://localhost:8080/"
        },
        "id": "h8qf6SQqKzSY",
        "outputId": "5361ead5-c9c6-4096-e9dd-574909072ef6"
      },
      "source": [
        "scalar1+scalar2, scalar1-scalar2,scalar1*scalar2,scalar1/scalar2,scalar1//scalar2,scalar1**scalar2"
      ],
      "execution_count": 3,
      "outputs": [
        {
          "output_type": "execute_result",
          "data": {
            "text/plain": [
              "(tensor([7.]),\n",
              " tensor([-1.]),\n",
              " tensor([12.]),\n",
              " tensor([0.7500]),\n",
              " tensor([0.]),\n",
              " tensor([81.]))"
            ]
          },
          "metadata": {
            "tags": []
          },
          "execution_count": 3
        }
      ]
    },
    {
      "cell_type": "markdown",
      "metadata": {
        "id": "UL06QsPYRjVR"
      },
      "source": [
        "**Vectors**\n",
        "\n",
        "Vectors are simply one-dimensional quantities. To put it in a more simple manner, we can consider a vector to be a list of values. For example, [1,2,3,4] is considered as a vector."
      ]
    },
    {
      "cell_type": "code",
      "metadata": {
        "colab": {
          "base_uri": "https://localhost:8080/"
        },
        "id": "L2A22bF9ROXy",
        "outputId": "67c365d4-e704-427e-a0e5-7abb8abfa180"
      },
      "source": [
        "#Using, PyTorch a vector can be easily created using the arange command.\n",
        "vector = torch.arange(10)\n",
        "vector"
      ],
      "execution_count": 4,
      "outputs": [
        {
          "output_type": "execute_result",
          "data": {
            "text/plain": [
              "tensor([0, 1, 2, 3, 4, 5, 6, 7, 8, 9])"
            ]
          },
          "metadata": {
            "tags": []
          },
          "execution_count": 4
        }
      ]
    },
    {
      "cell_type": "code",
      "metadata": {
        "colab": {
          "base_uri": "https://localhost:8080/"
        },
        "id": "406mqqOjSINg",
        "outputId": "2fed96fb-2482-46f8-af30-3ec4c08f60ed"
      },
      "source": [
        "#Any element of the vector can be accessed through the index of that vector. For instance in this case, the index for 2 is 2.\n",
        "vector[2]  #<- vector_name[index of element]"
      ],
      "execution_count": 7,
      "outputs": [
        {
          "output_type": "execute_result",
          "data": {
            "text/plain": [
              "tensor(2)"
            ]
          },
          "metadata": {
            "tags": []
          },
          "execution_count": 7
        }
      ]
    },
    {
      "cell_type": "code",
      "metadata": {
        "colab": {
          "base_uri": "https://localhost:8080/"
        },
        "id": "NSTc9-NZSZO1",
        "outputId": "d8d397b5-f619-434f-dd75-1088dcfe0cda"
      },
      "source": [
        "#Length of a vector can be found by the inbuilt len() function in Python\n",
        "len(vector)"
      ],
      "execution_count": 9,
      "outputs": [
        {
          "output_type": "execute_result",
          "data": {
            "text/plain": [
              "10"
            ]
          },
          "metadata": {
            "tags": []
          },
          "execution_count": 9
        }
      ]
    },
    {
      "cell_type": "code",
      "metadata": {
        "colab": {
          "base_uri": "https://localhost:8080/"
        },
        "id": "Q69scHqnSyQN",
        "outputId": "823238ff-b455-4ff2-cb56-e09f048b52c9"
      },
      "source": [
        "#To get the shape of the vector you can use the .shape function\n",
        "vector.shape"
      ],
      "execution_count": 12,
      "outputs": [
        {
          "output_type": "execute_result",
          "data": {
            "text/plain": [
              "torch.Size([10])"
            ]
          },
          "metadata": {
            "tags": []
          },
          "execution_count": 12
        }
      ]
    },
    {
      "cell_type": "markdown",
      "metadata": {
        "id": "8pljYXPRXg6z"
      },
      "source": [
        "**Matrices**\n",
        "\n",
        "Just like One-dimensional tensors are called vectors, similarly, two-dimensional tensors are called matrices."
      ]
    },
    {
      "cell_type": "code",
      "metadata": {
        "id": "6ODFIPhZXcU1"
      },
      "source": [
        ""
      ],
      "execution_count": null,
      "outputs": []
    }
  ]
}